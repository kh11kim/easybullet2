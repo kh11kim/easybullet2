{
 "cells": [
  {
   "cell_type": "code",
   "execution_count": 1,
   "metadata": {},
   "outputs": [
    {
     "name": "stderr",
     "output_type": "stream",
     "text": [
      "pybullet build time: Mar 17 2024 19:51:51\n"
     ]
    }
   ],
   "source": [
    "import base as eb"
   ]
  },
  {
   "cell_type": "code",
   "execution_count": 2,
   "metadata": {},
   "outputs": [
    {
     "name": "stdout",
     "output_type": "stream",
     "text": [
      "create gui world\n"
     ]
    }
   ],
   "source": [
    "world = eb.World()"
   ]
  },
  {
   "cell_type": "code",
   "execution_count": 4,
   "metadata": {},
   "outputs": [],
   "source": [
    "sphere = eb.Sphere.create(\"sphere1\", world, 0.1)\n",
    "cylinder = eb.Cylinder.create(\"cylinder\", world, 0.1, 0.2)\n",
    "box = eb.Box.create(\"box1\", world, [0.1, 0.1, 0.3])"
   ]
  },
  {
   "cell_type": "code",
   "execution_count": 6,
   "metadata": {},
   "outputs": [],
   "source": [
    "box.set_pose(eb.SE3(trans=[0.1, 0.1, 0.1]))"
   ]
  },
  {
   "cell_type": "code",
   "execution_count": 8,
   "metadata": {},
   "outputs": [],
   "source": [
    "sphere.set_pose(eb.SE3(trans=[-0.1, 0.1, 0.1]))"
   ]
  },
  {
   "cell_type": "code",
   "execution_count": 9,
   "metadata": {},
   "outputs": [],
   "source": [
    "world.show()"
   ]
  },
  {
   "cell_type": "code",
   "execution_count": 4,
   "metadata": {},
   "outputs": [],
   "source": [
    "mesh = eb.Mesh.create(\"mesh1\", world, \"mesh.obj\")"
   ]
  },
  {
   "cell_type": "code",
   "execution_count": 8,
   "metadata": {},
   "outputs": [],
   "source": [
    "mesh_trimesh = mesh.as_trimesh(is_col=False)"
   ]
  },
  {
   "cell_type": "code",
   "execution_count": 6,
   "metadata": {},
   "outputs": [],
   "source": [
    "import numpy as np"
   ]
  },
  {
   "cell_type": "code",
   "execution_count": 17,
   "metadata": {},
   "outputs": [],
   "source": [
    "center = np.array([0.1, 0.1, 0.1])\n",
    "line_uid = world.addUserDebugLine(\n",
    "    center,\n",
    "    center + np.array([0.1, 0, 0]),\n",
    "    lineColorRGB=[1,0,0],\n",
    "    lineWidth=10.\n",
    ")"
   ]
  },
  {
   "cell_type": "code",
   "execution_count": 21,
   "metadata": {},
   "outputs": [],
   "source": [
    "eb.URDF(world,)"
   ]
  },
  {
   "cell_type": "code",
   "execution_count": 25,
   "metadata": {},
   "outputs": [],
   "source": [
    "length = 0.04\n",
    "axes = np.eye(3) * length\n",
    "bounds = np.array([0.1] * 3)\n",
    "pose = eb.SE3.random(-bounds, bounds)"
   ]
  },
  {
   "cell_type": "code",
   "execution_count": 28,
   "metadata": {},
   "outputs": [],
   "source": [
    "axes_transform = pose.apply(axes)"
   ]
  },
  {
   "cell_type": "code",
   "execution_count": null,
   "metadata": {},
   "outputs": [],
   "source": [
    "def draw_frame(length=0.04, ):\n",
    "    lines = []\n",
    "    for axis, color in zip(axes_transform, np.eye(3)):\n",
    "        line_uid = world.addUserDebugLine(\n",
    "            pose.trans,\n",
    "            axis,\n",
    "            lineColorRGB=color,\n",
    "        )\n",
    "        lines.append(line_uid)\n",
    "    return lines"
   ]
  },
  {
   "cell_type": "code",
   "execution_count": 51,
   "metadata": {},
   "outputs": [],
   "source": []
  },
  {
   "cell_type": "code",
   "execution_count": 35,
   "metadata": {},
   "outputs": [],
   "source": [
    "for line_uid in lines:\n",
    "    world.removeUserDebugItem(line_uid)"
   ]
  },
  {
   "cell_type": "code",
   "execution_count": 52,
   "metadata": {},
   "outputs": [],
   "source": [
    "world.show()"
   ]
  },
  {
   "cell_type": "code",
   "execution_count": 5,
   "metadata": {},
   "outputs": [],
   "source": [
    "for i in range(1000):\n",
    "    world.step()"
   ]
  }
 ],
 "metadata": {
  "kernelspec": {
   "display_name": "eb2",
   "language": "python",
   "name": "python3"
  },
  "language_info": {
   "codemirror_mode": {
    "name": "ipython",
    "version": 3
   },
   "file_extension": ".py",
   "mimetype": "text/x-python",
   "name": "python",
   "nbconvert_exporter": "python",
   "pygments_lexer": "ipython3",
   "version": "3.9.18"
  }
 },
 "nbformat": 4,
 "nbformat_minor": 2
}
