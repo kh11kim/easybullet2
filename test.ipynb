{
 "cells": [
  {
   "cell_type": "code",
   "execution_count": 1,
   "metadata": {},
   "outputs": [
    {
     "name": "stderr",
     "output_type": "stream",
     "text": [
      "pybullet build time: Mar 17 2024 19:51:51\n"
     ]
    }
   ],
   "source": [
    "import base as eb"
   ]
  },
  {
   "cell_type": "code",
   "execution_count": 2,
   "metadata": {},
   "outputs": [
    {
     "name": "stdout",
     "output_type": "stream",
     "text": [
      "create gui world\n"
     ]
    }
   ],
   "source": [
    "world = eb.World()"
   ]
  },
  {
   "cell_type": "code",
   "execution_count": 3,
   "metadata": {},
   "outputs": [],
   "source": [
    "import trimesh"
   ]
  },
  {
   "cell_type": "code",
   "execution_count": 17,
   "metadata": {},
   "outputs": [],
   "source": [
    "mesh = trimesh.creation.box(extents=[0.1, 0.03, 0.01])"
   ]
  },
  {
   "cell_type": "code",
   "execution_count": 25,
   "metadata": {},
   "outputs": [
    {
     "data": {
      "text/plain": [
       "12"
      ]
     },
     "execution_count": 25,
     "metadata": {},
     "output_type": "execute_result"
    }
   ],
   "source": [
    "len(mesh.face_normals)"
   ]
  },
  {
   "cell_type": "code",
   "execution_count": 22,
   "metadata": {},
   "outputs": [],
   "source": [
    "cog = mesh.center_mass"
   ]
  },
  {
   "cell_type": "code",
   "execution_count": 30,
   "metadata": {},
   "outputs": [],
   "source": []
  },
  {
   "cell_type": "code",
   "execution_count": 44,
   "metadata": {},
   "outputs": [],
   "source": [
    "import numpy as np"
   ]
  },
  {
   "cell_type": "code",
   "execution_count": 91,
   "metadata": {},
   "outputs": [],
   "source": [
    "def sign(p1, p2, p3):\n",
    "    return (p1[0] - p3[0]) * (p2[1] - p3[1]) - (p2[0] - p3[0]) * (p1[1] - p3[1])\n",
    "\n",
    "def point_in_triangle(pt, triangle):\n",
    "    v1, v2, v3 = triangle\n",
    "    b1 = sign(pt, v1, v2) <= 0\n",
    "    b2 = sign(pt, v2, v3) <= 0\n",
    "    b3 = sign(pt, v3, v1) <= 0\n",
    "    print(b1, b2, b3)\n",
    "    return (b1 == b2) and (b2 == b3)"
   ]
  },
  {
   "cell_type": "code",
   "execution_count": 95,
   "metadata": {},
   "outputs": [
    {
     "name": "stdout",
     "output_type": "stream",
     "text": [
      "True True True\n",
      "True True True\n",
      "True True True\n",
      "True True True\n",
      "True False False\n",
      "True True True\n",
      "False True False\n",
      "True True True\n",
      "True True True\n",
      "True True True\n",
      "True True True\n",
      "True True True\n"
     ]
    }
   ],
   "source": [
    "stable_points = set()\n",
    "for face_idx in range(len(mesh.faces)):\n",
    "    point_idx = mesh.faces[face_idx][0]\n",
    "    normal = mesh.face_normals[face_idx]\n",
    "    point = mesh.vertices[point_idx]\n",
    "    height = (cog - point) @ normal\n",
    "    cog_proj_pt = cog - height * (normal)\n",
    "    triangle = mesh.vertices[mesh.faces[face_idx]]\n",
    "    if point_in_triangle(cog_proj_pt, triangle):\n",
    "        stable_points.add(tuple(cog_proj_pt))"
   ]
  },
  {
   "cell_type": "code",
   "execution_count": 96,
   "metadata": {},
   "outputs": [
    {
     "data": {
      "text/plain": [
       "{(-0.05, 0.0, 0.0),\n",
       " (0.0, -0.015, 0.0),\n",
       " (0.0, 0.0, -0.005),\n",
       " (0.0, 0.015, 0.0),\n",
       " (0.05, 0.0, 0.0)}"
      ]
     },
     "execution_count": 96,
     "metadata": {},
     "output_type": "execute_result"
    }
   ],
   "source": [
    "stable_points"
   ]
  },
  {
   "cell_type": "code",
   "execution_count": 63,
   "metadata": {},
   "outputs": [
    {
     "data": {
      "text/plain": [
       "True"
      ]
     },
     "execution_count": 63,
     "metadata": {},
     "output_type": "execute_result"
    }
   ],
   "source": []
  },
  {
   "cell_type": "code",
   "execution_count": 60,
   "metadata": {},
   "outputs": [
    {
     "data": {
      "text/plain": [
       "TrackedArray([[-0.05 , -0.015,  0.005],\n",
       "              [-0.05 ,  0.015,  0.005],\n",
       "              [-0.05 , -0.015, -0.005]])"
      ]
     },
     "execution_count": 60,
     "metadata": {},
     "output_type": "execute_result"
    }
   ],
   "source": []
  },
  {
   "cell_type": "code",
   "execution_count": null,
   "metadata": {},
   "outputs": [],
   "source": []
  },
  {
   "cell_type": "code",
   "execution_count": null,
   "metadata": {},
   "outputs": [],
   "source": []
  },
  {
   "cell_type": "code",
   "execution_count": 14,
   "metadata": {},
   "outputs": [],
   "source": [
    "obj = eb.Mesh.from_trimesh(\"obj\", world, mesh, 0.5, [0, 0, 1, 1])"
   ]
  },
  {
   "cell_type": "code",
   "execution_count": 16,
   "metadata": {},
   "outputs": [],
   "source": [
    "world.remove_body(obj)"
   ]
  },
  {
   "cell_type": "code",
   "execution_count": 15,
   "metadata": {},
   "outputs": [],
   "source": [
    "world.show()"
   ]
  },
  {
   "cell_type": "code",
   "execution_count": 13,
   "metadata": {},
   "outputs": [],
   "source": [
    "import tempfile\n",
    "from pathlib import Path"
   ]
  },
  {
   "cell_type": "code",
   "execution_count": null,
   "metadata": {},
   "outputs": [],
   "source": []
  },
  {
   "cell_type": "code",
   "execution_count": 20,
   "metadata": {},
   "outputs": [],
   "source": []
  },
  {
   "cell_type": "code",
   "execution_count": 21,
   "metadata": {},
   "outputs": [],
   "source": [
    "world.show()"
   ]
  },
  {
   "cell_type": "code",
   "execution_count": null,
   "metadata": {},
   "outputs": [],
   "source": [
    "temp = tempfile.TemporaryFile(mode='w+')\n",
    "for i in range(10):\n",
    "    num = random.randint(1, 100)\n",
    "    tf.write(str(num))\n",
    "    tf.write(\"\\n\")\n",
    "\n",
    "tf.seek(0)  # 파일 오프셋을 처음으로 이동\n",
    "result = sumfile(tf)\n",
    "tf.close()\n",
    "\n",
    "print(result)"
   ]
  },
  {
   "cell_type": "code",
   "execution_count": null,
   "metadata": {},
   "outputs": [],
   "source": [
    "eb.Mesh.create()"
   ]
  },
  {
   "cell_type": "code",
   "execution_count": 4,
   "metadata": {},
   "outputs": [],
   "source": [
    "sphere = eb.Sphere.create(\"sphere1\", world, 0.1)\n",
    "cylinder = eb.Cylinder.create(\"cylinder\", world, 0.1, 0.2)\n",
    "box = eb.Box.create(\"box1\", world, [0.1, 0.1, 0.3])"
   ]
  },
  {
   "cell_type": "code",
   "execution_count": 6,
   "metadata": {},
   "outputs": [],
   "source": [
    "box.set_pose(eb.SE3(trans=[0.1, 0.1, 0.1]))"
   ]
  },
  {
   "cell_type": "code",
   "execution_count": 8,
   "metadata": {},
   "outputs": [],
   "source": [
    "sphere.set_pose(eb.SE3(trans=[-0.1, 0.1, 0.1]))"
   ]
  },
  {
   "cell_type": "code",
   "execution_count": 9,
   "metadata": {},
   "outputs": [],
   "source": [
    "world.show()"
   ]
  },
  {
   "cell_type": "code",
   "execution_count": 4,
   "metadata": {},
   "outputs": [],
   "source": [
    "mesh = eb.Mesh.create(\"mesh1\", world, \"mesh.obj\")"
   ]
  },
  {
   "cell_type": "code",
   "execution_count": 8,
   "metadata": {},
   "outputs": [],
   "source": [
    "mesh_trimesh = mesh.as_trimesh(is_col=False)"
   ]
  },
  {
   "cell_type": "code",
   "execution_count": 6,
   "metadata": {},
   "outputs": [],
   "source": [
    "import numpy as np"
   ]
  },
  {
   "cell_type": "code",
   "execution_count": 17,
   "metadata": {},
   "outputs": [],
   "source": [
    "center = np.array([0.1, 0.1, 0.1])\n",
    "line_uid = world.addUserDebugLine(\n",
    "    center,\n",
    "    center + np.array([0.1, 0, 0]),\n",
    "    lineColorRGB=[1,0,0],\n",
    "    lineWidth=10.\n",
    ")"
   ]
  },
  {
   "cell_type": "code",
   "execution_count": 21,
   "metadata": {},
   "outputs": [],
   "source": [
    "eb.URDF(world,)"
   ]
  },
  {
   "cell_type": "code",
   "execution_count": 25,
   "metadata": {},
   "outputs": [],
   "source": [
    "length = 0.04\n",
    "axes = np.eye(3) * length\n",
    "bounds = np.array([0.1] * 3)\n",
    "pose = eb.SE3.random(-bounds, bounds)"
   ]
  },
  {
   "cell_type": "code",
   "execution_count": 28,
   "metadata": {},
   "outputs": [],
   "source": [
    "axes_transform = pose.apply(axes)"
   ]
  },
  {
   "cell_type": "code",
   "execution_count": null,
   "metadata": {},
   "outputs": [],
   "source": [
    "def draw_frame(length=0.04, ):\n",
    "    lines = []\n",
    "    for axis, color in zip(axes_transform, np.eye(3)):\n",
    "        line_uid = world.addUserDebugLine(\n",
    "            pose.trans,\n",
    "            axis,\n",
    "            lineColorRGB=color,\n",
    "        )\n",
    "        lines.append(line_uid)\n",
    "    return lines"
   ]
  },
  {
   "cell_type": "code",
   "execution_count": 51,
   "metadata": {},
   "outputs": [],
   "source": []
  },
  {
   "cell_type": "code",
   "execution_count": 35,
   "metadata": {},
   "outputs": [],
   "source": [
    "for line_uid in lines:\n",
    "    world.removeUserDebugItem(line_uid)"
   ]
  },
  {
   "cell_type": "code",
   "execution_count": 52,
   "metadata": {},
   "outputs": [],
   "source": [
    "world.show()"
   ]
  },
  {
   "cell_type": "code",
   "execution_count": 5,
   "metadata": {},
   "outputs": [],
   "source": [
    "for i in range(1000):\n",
    "    world.step()"
   ]
  }
 ],
 "metadata": {
  "kernelspec": {
   "display_name": "eb2",
   "language": "python",
   "name": "python3"
  },
  "language_info": {
   "codemirror_mode": {
    "name": "ipython",
    "version": 3
   },
   "file_extension": ".py",
   "mimetype": "text/x-python",
   "name": "python",
   "nbconvert_exporter": "python",
   "pygments_lexer": "ipython3",
   "version": "3.9.18"
  }
 },
 "nbformat": 4,
 "nbformat_minor": 2
}
